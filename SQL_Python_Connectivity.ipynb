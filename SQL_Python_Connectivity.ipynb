{
 "cells": [
  {
   "cell_type": "code",
   "execution_count": 79,
   "id": "a5ac12bc",
   "metadata": {},
   "outputs": [
    {
     "name": "stdout",
     "output_type": "stream",
     "text": [
      "[(1, 'Prabha', 22), (1, 'Prabha', 22), (2, 'Hema', 20), (3, 'Anwar', 29)]\n"
     ]
    }
   ],
   "source": [
    "# showing all databases in server\n",
    "\n",
    "import mysql.connector as connection\n",
    "\n",
    "try:\n",
    "\n",
    "    conn = connection.connect(host = \"localhost\", user = \"root\", passwd = \"Mysql@123\", database = 'MyFirstDatabase')    #creating a connection\n",
    "\n",
    "    query = \"SELECT * FROM MyFirstTable\"\n",
    "\n",
    "    cur = conn.cursor()                                                                   #creating a cursor\n",
    "\n",
    "    cur.execute(query)                                                                    #executing the query\n",
    "\n",
    "    result = cur.fetchall()                                                               #fetching all data\n",
    "\n",
    "    print(result)\n",
    "    \n",
    "    conn.close()\n",
    "    \n",
    "except Exception as ex:\n",
    "    \n",
    "    conn.close()\n",
    "    \n",
    "    print(ex)"
   ]
  },
  {
   "cell_type": "code",
   "execution_count": 60,
   "id": "5989f362",
   "metadata": {},
   "outputs": [
    {
     "name": "stdout",
     "output_type": "stream",
     "text": [
      "1007 (HY000): Can't create database 'myfirstdatabase'; database exists\n"
     ]
    }
   ],
   "source": [
    "#creating a new database\n",
    "\n",
    "import mysql.connector as connection\n",
    "\n",
    "try:\n",
    "\n",
    "    conn = connection.connect(host = \"localhost\", user = \"root\", passwd = \"Mysql@123\")    #creating a connection\n",
    "\n",
    "    query = \"CREATE DATABASE MyFirstDatabase;\" \n",
    "\n",
    "    cur = conn.cursor()                                                                   #creating a cursor\n",
    "\n",
    "    cur.execute(query)                                                                    #executing the query\n",
    "    \n",
    "    print(\"Database created successfully\")\n",
    "    \n",
    "    conn.close()\n",
    "    \n",
    "except Exception as ex:\n",
    "    \n",
    "    conn.close()\n",
    "    \n",
    "    print(ex)"
   ]
  },
  {
   "cell_type": "code",
   "execution_count": 56,
   "id": "86b25a0d",
   "metadata": {},
   "outputs": [
    {
     "name": "stdout",
     "output_type": "stream",
     "text": [
      "1050 (42S01): Table 'myfirsttable' already exists\n"
     ]
    }
   ],
   "source": [
    "#creating a new database\n",
    "\n",
    "import mysql.connector as connection\n",
    "\n",
    "try:\n",
    "\n",
    "    conn = connection.connect(host = \"localhost\", user = \"root\", passwd = \"Mysql@123\", database = 'MyFirstDatabase')    #creating a connection\n",
    "\n",
    "    query = \"CREATE TABLE MyFirstTable(ID INT(10),NAME VARCHAR(20), AGE INT(20));\" \n",
    "\n",
    "    cur = conn.cursor()                                                                   #creating a cursor\n",
    "\n",
    "    cur.execute(query)                                                                    #executing the query\n",
    "    \n",
    "    print(\"Table created successfully\")\n",
    "    \n",
    "    conn.close()\n",
    "    \n",
    "except Exception as ex:\n",
    "    \n",
    "    conn.close()\n",
    "    \n",
    "    print(ex)"
   ]
  },
  {
   "cell_type": "code",
   "execution_count": 83,
   "id": "b9db98eb",
   "metadata": {},
   "outputs": [
    {
     "name": "stdout",
     "output_type": "stream",
     "text": [
      "data written successfully in myfirsttable table\n"
     ]
    }
   ],
   "source": [
    "# showing all databases in server\n",
    "\n",
    "import mysql.connector as connection\n",
    "\n",
    "try:\n",
    "\n",
    "    conn = connection.connect(host = \"localhost\", user = \"root\", passwd = \"Mysql@123\", database = \"MyFirstDatabase\")    #creating a connection\n",
    "\n",
    "    query = \"INSERT INTO MyFirstTable VALUES('4','Joseph','29')\"\n",
    "\n",
    "    cur = conn.cursor()                                                                   #creating a cursor\n",
    "\n",
    "    cur.execute(query)                                                                    #executing the query\n",
    "\n",
    "    conn.commit()                                                                          #commiting all data\n",
    "\n",
    "    print(\"data written successfully in myfirsttable table\")\n",
    "    \n",
    "    \n",
    "except Exception as ex:\n",
    "    \n",
    "    conn.close()\n",
    "    \n",
    "    print(ex)"
   ]
  },
  {
   "cell_type": "code",
   "execution_count": 92,
   "id": "fb18bc15",
   "metadata": {},
   "outputs": [
    {
     "name": "stderr",
     "output_type": "stream",
     "text": [
      "C:\\Users\\Preetha K\\AppData\\Local\\Temp\\ipykernel_3248\\1563612114.py:3: UserWarning: pandas only supports SQLAlchemy connectable (engine/connection) or database string URI or sqlite3 DBAPI2 connection. Other DBAPI2 objects are not tested. Please consider using SQLAlchemy.\n",
      "  pd.read_sql(\"select * from MyFirstDatabase.MyFirstTable\",conn)\n"
     ]
    },
    {
     "data": {
      "text/html": [
       "<div>\n",
       "<style scoped>\n",
       "    .dataframe tbody tr th:only-of-type {\n",
       "        vertical-align: middle;\n",
       "    }\n",
       "\n",
       "    .dataframe tbody tr th {\n",
       "        vertical-align: top;\n",
       "    }\n",
       "\n",
       "    .dataframe thead th {\n",
       "        text-align: right;\n",
       "    }\n",
       "</style>\n",
       "<table border=\"1\" class=\"dataframe\">\n",
       "  <thead>\n",
       "    <tr style=\"text-align: right;\">\n",
       "      <th></th>\n",
       "      <th>ID</th>\n",
       "      <th>NAME</th>\n",
       "      <th>AGE</th>\n",
       "    </tr>\n",
       "  </thead>\n",
       "  <tbody>\n",
       "    <tr>\n",
       "      <th>0</th>\n",
       "      <td>1</td>\n",
       "      <td>Prabha</td>\n",
       "      <td>22</td>\n",
       "    </tr>\n",
       "    <tr>\n",
       "      <th>1</th>\n",
       "      <td>1</td>\n",
       "      <td>Prabha</td>\n",
       "      <td>22</td>\n",
       "    </tr>\n",
       "    <tr>\n",
       "      <th>2</th>\n",
       "      <td>2</td>\n",
       "      <td>Hema</td>\n",
       "      <td>20</td>\n",
       "    </tr>\n",
       "    <tr>\n",
       "      <th>3</th>\n",
       "      <td>3</td>\n",
       "      <td>Anwar</td>\n",
       "      <td>29</td>\n",
       "    </tr>\n",
       "    <tr>\n",
       "      <th>4</th>\n",
       "      <td>4</td>\n",
       "      <td>Joseph</td>\n",
       "      <td>29</td>\n",
       "    </tr>\n",
       "  </tbody>\n",
       "</table>\n",
       "</div>"
      ],
      "text/plain": [
       "   ID    NAME  AGE\n",
       "0   1  Prabha   22\n",
       "1   1  Prabha   22\n",
       "2   2    Hema   20\n",
       "3   3   Anwar   29\n",
       "4   4  Joseph   29"
      ]
     },
     "execution_count": 92,
     "metadata": {},
     "output_type": "execute_result"
    }
   ],
   "source": [
    "import pandas as pd\n",
    "\n",
    "pd.read_sql(\"select * from MyFirstDatabase.MyFirstTable\",conn)"
   ]
  }
 ],
 "metadata": {
  "kernelspec": {
   "display_name": "Python 3 (ipykernel)",
   "language": "python",
   "name": "python3"
  },
  "language_info": {
   "codemirror_mode": {
    "name": "ipython",
    "version": 3
   },
   "file_extension": ".py",
   "mimetype": "text/x-python",
   "name": "python",
   "nbconvert_exporter": "python",
   "pygments_lexer": "ipython3",
   "version": "3.11.1"
  }
 },
 "nbformat": 4,
 "nbformat_minor": 5
}
